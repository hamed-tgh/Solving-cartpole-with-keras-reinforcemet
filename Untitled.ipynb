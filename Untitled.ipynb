{
 "cells": [
  {
   "cell_type": "markdown",
   "id": "bc9dd67a",
   "metadata": {},
   "source": [
    "#  Each R.L algorithm consists of 4 different level which are 1.Action 2. Reward 3.Environment  4. Agent or in bried AREA\n",
    "\n",
    "in this project we seek to solve cartpole-v1 game which presented from OPEN-AI \n",
    "in this game we have only 2 ations, right and left and have to balance the stick.\n",
    "\n",
    "first of all we have to import this environment from Gym, created by OPEN_AI, then we setup a learning model by using keras, an api of Tensorflow. Finally, by using keras-rl we train the model.\n",
    "\n"
   ]
  },
  {
   "cell_type": "markdown",
   "id": "ddca8321",
   "metadata": {},
   "source": [
    "# Install dependencies"
   ]
  },
  {
   "cell_type": "code",
   "execution_count": null,
   "id": "64d135e2",
   "metadata": {},
   "outputs": [],
   "source": [
    "!pip install tensorflow==2.3.0\n",
    "!pip install gym\n",
    "!pip install keras\n",
    "!pip install keras-rl2\n"
   ]
  },
  {
   "cell_type": "markdown",
   "id": "a4ee1a2d",
   "metadata": {},
   "source": [
    "# Setting open-ai environment\n",
    "\n",
    "in this project we use cartpole-v1\n",
    "\n",
    "\n",
    "Note that in this game we have 2 availbale actions, right and left"
   ]
  },
  {
   "cell_type": "code",
   "execution_count": 1,
   "id": "dc97d00a",
   "metadata": {
    "scrolled": true
   },
   "outputs": [
    {
     "ename": "ModuleNotFoundError",
     "evalue": "No module named 'gym'",
     "output_type": "error",
     "traceback": [
      "\u001b[1;31m---------------------------------------------------------------------------\u001b[0m",
      "\u001b[1;31mModuleNotFoundError\u001b[0m                       Traceback (most recent call last)",
      "Cell \u001b[1;32mIn[1], line 1\u001b[0m\n\u001b[1;32m----> 1\u001b[0m \u001b[38;5;28;01mimport\u001b[39;00m \u001b[38;5;21;01mgym\u001b[39;00m\n\u001b[0;32m      2\u001b[0m \u001b[38;5;28;01mimport\u001b[39;00m \u001b[38;5;21;01mrandom\u001b[39;00m\n",
      "\u001b[1;31mModuleNotFoundError\u001b[0m: No module named 'gym'"
     ]
    }
   ],
   "source": [
    "import gym\n",
    "import random\n",
    "\n",
    "env = gym.make(\"CartPole-v0\")\n",
    "#all different states in this environment\n",
    "states = env.observation_space.shape[0]\n",
    "#all actions available in this environments\n",
    "actions = env.action_space.n\n",
    "\n",
    "\n",
    "episodes = 10\n",
    "for episode in range(1 , episodes+1):\n",
    "    state = env.reset()\n",
    "    done = False\n",
    "    score = 0 \n",
    "    while not done:\n",
    "        env.render()\n",
    "        action = random.choice(0,1)\n",
    "        n_state, reward, done , info = env.step(action)\n",
    "        score+= reward\n",
    "    print(\"Episode:{}   score{}\".format(episode , score) )\n",
    "        \n",
    "        \n",
    "        \n",
    "        \n",
    "    \n"
   ]
  },
  {
   "cell_type": "markdown",
   "id": "558e8e3e",
   "metadata": {},
   "source": [
    "#  creating a deep learning model "
   ]
  },
  {
   "cell_type": "code",
   "execution_count": null,
   "id": "3e153a51",
   "metadata": {},
   "outputs": [],
   "source": [
    "import numpy as np\n",
    "from tensorflow.keras.layers import Dense, Falatten\n",
    "from tensorflow.keras.optimizers import Adam\n",
    "from tensorflow.keras.models import Sequential\n",
    "\n",
    "def buid_model(states , actions):\n",
    "    model = Sequential()\n",
    "    model.add(flatten(input_shape = (1 , states)))\n",
    "    model.add(Dense(24 , activation ='relu' ))\n",
    "    model.add(Dense(24 , activation ='relu' ))\n",
    "    model.add(Dense(actions , activation = 'linear'))\n",
    "    return model\n",
    "\n",
    "\n",
    "model = buid_model(states , actions)\n",
    "model.summary()"
   ]
  },
  {
   "cell_type": "markdown",
   "id": "dbadd8b1",
   "metadata": {},
   "source": [
    "# building agent with keras-rl"
   ]
  },
  {
   "cell_type": "code",
   "execution_count": null,
   "id": "a938ac9e",
   "metadata": {},
   "outputs": [],
   "source": [
    "from rl.agents import DQNAgent\n",
    "# we have 2 kind of problems: valuesbasedrl and policybasedRl. int this program we solve policybased\n",
    "from rl.policy import BoltzmanQPolicy\n",
    "from rl.memory import SequentialMemory\n",
    "\n",
    "\n",
    "def build_agent(model , actions):\n",
    "    policy = BoltzmanQPolicy()\n",
    "    memory = SequentialMemory(limit=50000 , window_lenngth = 1)\n",
    "    dqn = DQNAgent(model = model , memory = memory , policy = policy,\n",
    "                  nb_actions = actions , nb_steps_warmup = 10 , targer_model_update =1e-2 )\n",
    "    return dqn\n",
    "\n",
    "dqn = build_agent(model , actions)\n",
    "dqn.compile(Adam(lr = 1e-3) , metrics = ['mse'])\n",
    "dqn.fit(env , nb_steps = 50000 , visualize = False , verbose = 1 )\n",
    "\n"
   ]
  },
  {
   "cell_type": "code",
   "execution_count": null,
   "id": "cab9c7cb",
   "metadata": {},
   "outputs": [],
   "source": [
    "# testing model"
   ]
  },
  {
   "cell_type": "code",
   "execution_count": null,
   "id": "c41bf774",
   "metadata": {},
   "outputs": [],
   "source": [
    "scores = dqn.test(env , nb_episodes = 100 , visualize = False )\n",
    "print(np.mean(scores.history['episode_reward']))\n"
   ]
  },
  {
   "cell_type": "code",
   "execution_count": null,
   "id": "6300bad2",
   "metadata": {},
   "outputs": [],
   "source": [
    "# Visualize_model\n",
    "\n",
    "\n",
    "_ = dqn.test(env , nb_episodes = 5 , visualize = True )"
   ]
  },
  {
   "cell_type": "code",
   "execution_count": null,
   "id": "49c6bb0a",
   "metadata": {},
   "outputs": [],
   "source": [
    "#saving the model\n",
    "dqn.save_weights(\"weights.h5\" , overwrite = True  )\n"
   ]
  },
  {
   "cell_type": "code",
   "execution_count": null,
   "id": "a424318e",
   "metadata": {},
   "outputs": [],
   "source": [
    "#load model\n",
    "\n",
    "\n",
    "env= gym.make(\"cartpole-v0\")\n",
    "#all different states in this environment\n",
    "states = env.observation_space.shape[0]\n",
    "#all actions available in this environments\n",
    "actions = env.action_space.n\n",
    "\n",
    "\n",
    "model = build_model(states, actions)\n",
    "dqn = build_agent(model , actions)\n",
    "dqn.compile(Adam(lr = 1e-3) , metrics = ['mse'])\n",
    "\n",
    "\n",
    "dqn.load_weights(\"weights.h5\")\n",
    "\n",
    "_ = dqn.test(env , nb_episodes = 5 , visualize = True )"
   ]
  }
 ],
 "metadata": {
  "kernelspec": {
   "display_name": "Python 3 (ipykernel)",
   "language": "python",
   "name": "python3"
  },
  "language_info": {
   "codemirror_mode": {
    "name": "ipython",
    "version": 3
   },
   "file_extension": ".py",
   "mimetype": "text/x-python",
   "name": "python",
   "nbconvert_exporter": "python",
   "pygments_lexer": "ipython3",
   "version": "3.10.9"
  }
 },
 "nbformat": 4,
 "nbformat_minor": 5
}
